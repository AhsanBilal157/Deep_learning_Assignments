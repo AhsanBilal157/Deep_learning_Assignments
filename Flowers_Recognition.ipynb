{
  "nbformat": 4,
  "nbformat_minor": 0,
  "metadata": {
    "colab": {
      "name": "Flowers_Recognition",
      "provenance": [],
      "collapsed_sections": [],
      "mount_file_id": "1PjeoxNqqulJPQRoR7km_0C8I6GdhTzP5",
      "authorship_tag": "ABX9TyOM9REOD6yiEGDswSN+up2g",
      "include_colab_link": true
    },
    "kernelspec": {
      "name": "python3",
      "display_name": "Python 3"
    },
    "language_info": {
      "name": "python"
    }
  },
  "cells": [
    {
      "cell_type": "markdown",
      "metadata": {
        "id": "view-in-github",
        "colab_type": "text"
      },
      "source": [
        "<a href=\"https://colab.research.google.com/github/AhsanBilal157/Deep_learning_Assignments/blob/main/Flowers_Recognition.ipynb\" target=\"_parent\"><img src=\"https://colab.research.google.com/assets/colab-badge.svg\" alt=\"Open In Colab\"/></a>"
      ]
    },
    {
      "cell_type": "markdown",
      "metadata": {
        "id": "xy2Onw1ADrcZ"
      },
      "source": [
        "\n",
        "Assignment: Flowers Recognition\n",
        "Dataset Description:\n",
        "\n",
        "This dataset contains 4242 images of flowers.\n",
        "The data collection is based on the data flicr, google images, yandex images.\n",
        "You can use this datastet to recognize plants from the photo.\n",
        "\n",
        "Attribute Information:\n",
        "The pictures are divided into five classes: chamomile, tulip, rose, sunflower, dandelion.\n",
        "For each class there are about 800 photos. Photos are not high resolution, about 320x240 pixels.\n",
        "**Also explore how to resize images in tensorflow and then resize all the images to a same size.**\n",
        "This is a Multiclass Classification Problem.\n",
        "\n",
        "WORKFLOW :\n",
        "Load Data\n",
        "Split into 60 and 40 ratio.\n",
        "Encode labels.\n",
        "Create Model\n",
        "Compilation Step (Note : Its a Multiclass Classification problem , select loss , metrics according to it)\n",
        "Train the Model.\n",
        "If the model gets overfit tune your model by changing the units , No. of layers , epochs , add dropout layer or add Regularizer according to the need .\n",
        "Prediction should be > 85%\n",
        "Evaluation Step\n",
        "Prediction\n",
        "\n",
        "Data :\n",
        "https://drive.google.com/file/d/1-OX6wn5gA-bJpjPNfSyaYQLz-A-AB_uj/view?usp=sharing"
      ]
    },
    {
      "cell_type": "code",
      "metadata": {
        "id": "NQnWIkMNLV5T",
        "colab": {
          "base_uri": "https://localhost:8080/"
        },
        "outputId": "9dfd9b63-12e5-4c38-f5f3-20b48d632991"
      },
      "source": [
        "from keras.preprocessing import image\n",
        "p = Path('/content/gdrive/MyDrive/flowers')\n",
        "dirs = p.glob('*')\n",
        "image_data = []\n",
        "labels = []\n",
        "label_dict = {'dandelion':0,'daisy':1,'flowers':2,'sunflower':3,'tulip':4,'rose':5}\n",
        "for folder_dir in dirs:\n",
        "    label= str(folder_dir).split('/')[-1]\n",
        "    cnt = 0\n",
        "    print(label)\n",
        "    for image_path in folder_dir.glob('*.jpg'):\n",
        "        img = image.load_img(image_path,target_size = (64,64))\n",
        "        img_array = image.img_to_array(img)\n",
        "        image_data.append(img_array)\n",
        "        labels.append(label_dict[label])"
      ],
      "execution_count": 25,
      "outputs": [
        {
          "output_type": "stream",
          "text": [
            "rose\n",
            "flowers\n",
            "daisy\n",
            "dandelion\n",
            "sunflower\n",
            "tulip\n"
          ],
          "name": "stdout"
        }
      ]
    },
    {
      "cell_type": "code",
      "metadata": {
        "id": "GIS-RMhq9pXJ"
      },
      "source": [
        "x = np.array(image_data)\n",
        "y = np.array(labels)"
      ],
      "execution_count": 26,
      "outputs": []
    },
    {
      "cell_type": "code",
      "metadata": {
        "id": "Z8d8h1Vw4lrX"
      },
      "source": [
        "from sklearn.model_selection import train_test_split\n",
        "x_train,x_test,y_train,y_test = train_test_split(x,y,test_size = 0.4)\n"
      ],
      "execution_count": 27,
      "outputs": []
    },
    {
      "cell_type": "code",
      "metadata": {
        "id": "10ZAi9Y5JGMH"
      },
      "source": [
        "image_size = x_train.shape[1]\n",
        "x_train = np.reshape(x_train,[-1,image_size,image_size,3])\n",
        "x_test = np.reshape(x_test,[-1,image_size,image_size,3])\n",
        "x_train = x_train/255.0\n",
        "x_test = x_test/255.0"
      ],
      "execution_count": 28,
      "outputs": []
    },
    {
      "cell_type": "code",
      "metadata": {
        "id": "WuEVk9Sa91wu"
      },
      "source": [
        "y_train = to_categorical(y_train)"
      ],
      "execution_count": 29,
      "outputs": []
    },
    {
      "cell_type": "code",
      "metadata": {
        "colab": {
          "base_uri": "https://localhost:8080/",
          "height": 1000
        },
        "id": "h00Wse-Z95vG",
        "outputId": "de6fe023-8938-4e15-f467-976f20f8be1e"
      },
      "source": [
        "input_shape = (64,64,3)\n",
        "inputs = Input(shape = input_shape)\n",
        "x = inputs\n",
        "x = Conv2D(32,kernel_size = 2,activation = 'relu',strides = 1,padding = 'same')(x)\n",
        "x = MaxPooling2D(pool_size = (2,2))(x)\n",
        "\n",
        "x = Conv2D(64,kernel_size = 2,activation = 'relu',strides = 1,padding = 'same')(x)\n",
        "x = MaxPooling2D(pool_size = (2,2))(x)\n",
        "\n",
        "\n",
        "x = Conv2D(128,kernel_size = 2,activation = 'relu',strides = 1,padding = 'same')(x)\n",
        "x = Conv2D(256,kernel_size = 2,activation = 'relu',strides = 1,padding = 'same')(x)\n",
        "x = Dropout(0.25)(x)\n",
        "x = Flatten()(x)\n",
        "outputs = Dense(6,activation = 'softmax')(x)\n",
        "flower_classifier = Model(inputs,outputs)\n",
        "\n",
        "flower_classifier.summary()\n",
        "plot_model(flower_classifier)"
      ],
      "execution_count": 30,
      "outputs": [
        {
          "output_type": "stream",
          "text": [
            "Model: \"model\"\n",
            "_________________________________________________________________\n",
            "Layer (type)                 Output Shape              Param #   \n",
            "=================================================================\n",
            "input_1 (InputLayer)         [(None, 64, 64, 3)]       0         \n",
            "_________________________________________________________________\n",
            "conv2d_6 (Conv2D)            (None, 64, 64, 32)        416       \n",
            "_________________________________________________________________\n",
            "max_pooling2d_6 (MaxPooling2 (None, 32, 32, 32)        0         \n",
            "_________________________________________________________________\n",
            "conv2d_7 (Conv2D)            (None, 32, 32, 64)        8256      \n",
            "_________________________________________________________________\n",
            "max_pooling2d_7 (MaxPooling2 (None, 16, 16, 64)        0         \n",
            "_________________________________________________________________\n",
            "conv2d_8 (Conv2D)            (None, 16, 16, 128)       32896     \n",
            "_________________________________________________________________\n",
            "conv2d_9 (Conv2D)            (None, 16, 16, 256)       131328    \n",
            "_________________________________________________________________\n",
            "dropout_2 (Dropout)          (None, 16, 16, 256)       0         \n",
            "_________________________________________________________________\n",
            "flatten_2 (Flatten)          (None, 65536)             0         \n",
            "_________________________________________________________________\n",
            "dense_4 (Dense)              (None, 6)                 393222    \n",
            "=================================================================\n",
            "Total params: 566,118\n",
            "Trainable params: 566,118\n",
            "Non-trainable params: 0\n",
            "_________________________________________________________________\n"
          ],
          "name": "stdout"
        },
        {
          "output_type": "execute_result",
          "data": {
            "image/png": "[encoded data removed]",
            "text/plain": [
              "<IPython.core.display.Image object>"
            ]
          },
          "metadata": {
            "tags": []
          },
          "execution_count": 30
        }
      ]
    },
    {
      "cell_type": "code",
      "metadata": {
        "id": "ZVkR69De-AvG"
      },
      "source": [
        "flower_classifier.compile(loss = 'categorical_crossentropy',optimizer = 'adam',metrics = ['accuracy'])"
      ],
      "execution_count": 31,
      "outputs": []
    },
    {
      "cell_type": "code",
      "metadata": {
        "colab": {
          "base_uri": "https://localhost:8080/"
        },
        "id": "IiULw_QE_3Vz",
        "outputId": "68e1b33a-4297-4323-efa3-0a8b97814419"
      },
      "source": [
        "flower_classifier.fit(x_train,y_train,batch_size = 128,epochs = 30)\n"
      ],
      "execution_count": 35,
      "outputs": [
        {
          "output_type": "stream",
          "text": [
            "Epoch 1/30\n",
            "21/21 [==============================] - 26s 1s/step - loss: 1.5891 - accuracy: 0.3040\n",
            "Epoch 2/30\n",
            "21/21 [==============================] - 25s 1s/step - loss: 1.1977 - accuracy: 0.4929\n",
            "Epoch 3/30\n",
            "21/21 [==============================] - 26s 1s/step - loss: 1.0504 - accuracy: 0.5732\n",
            "Epoch 4/30\n",
            "21/21 [==============================] - 25s 1s/step - loss: 0.9866 - accuracy: 0.6172\n",
            "Epoch 5/30\n",
            "21/21 [==============================] - 25s 1s/step - loss: 0.9683 - accuracy: 0.6131\n",
            "Epoch 6/30\n",
            "21/21 [==============================] - 25s 1s/step - loss: 0.8855 - accuracy: 0.6467\n",
            "Epoch 7/30\n",
            "21/21 [==============================] - 25s 1s/step - loss: 0.7987 - accuracy: 0.7074\n",
            "Epoch 8/30\n",
            "21/21 [==============================] - 25s 1s/step - loss: 0.7354 - accuracy: 0.7299\n",
            "Epoch 9/30\n",
            "21/21 [==============================] - 25s 1s/step - loss: 0.6696 - accuracy: 0.7532\n",
            "Epoch 10/30\n",
            "21/21 [==============================] - 25s 1s/step - loss: 0.5846 - accuracy: 0.7909\n",
            "Epoch 11/30\n",
            "21/21 [==============================] - 25s 1s/step - loss: 0.5428 - accuracy: 0.7978\n",
            "Epoch 12/30\n",
            "21/21 [==============================] - 25s 1s/step - loss: 0.4499 - accuracy: 0.8343\n",
            "Epoch 13/30\n",
            "21/21 [==============================] - 25s 1s/step - loss: 0.4468 - accuracy: 0.8375\n",
            "Epoch 14/30\n",
            "21/21 [==============================] - 25s 1s/step - loss: 0.4095 - accuracy: 0.8584\n",
            "Epoch 15/30\n",
            "21/21 [==============================] - 25s 1s/step - loss: 0.2882 - accuracy: 0.9027\n",
            "Epoch 16/30\n",
            "21/21 [==============================] - 25s 1s/step - loss: 0.2804 - accuracy: 0.9029\n",
            "Epoch 17/30\n",
            "21/21 [==============================] - 26s 1s/step - loss: 0.2252 - accuracy: 0.9353\n",
            "Epoch 18/30\n",
            "21/21 [==============================] - 25s 1s/step - loss: 0.1898 - accuracy: 0.9422\n",
            "Epoch 19/30\n",
            "21/21 [==============================] - 28s 1s/step - loss: 0.1493 - accuracy: 0.9597\n",
            "Epoch 20/30\n",
            "21/21 [==============================] - 27s 1s/step - loss: 0.1490 - accuracy: 0.9539\n",
            "Epoch 21/30\n",
            "21/21 [==============================] - 26s 1s/step - loss: 0.1005 - accuracy: 0.9772\n",
            "Epoch 22/30\n",
            "21/21 [==============================] - 27s 1s/step - loss: 0.0742 - accuracy: 0.9830\n",
            "Epoch 23/30\n",
            "21/21 [==============================] - 26s 1s/step - loss: 0.0528 - accuracy: 0.9885\n",
            "Epoch 24/30\n",
            "21/21 [==============================] - 26s 1s/step - loss: 0.0358 - accuracy: 0.9911\n",
            "Epoch 25/30\n",
            "21/21 [==============================] - 26s 1s/step - loss: 0.0314 - accuracy: 0.9942\n",
            "Epoch 26/30\n",
            "21/21 [==============================] - 25s 1s/step - loss: 0.0296 - accuracy: 0.9929\n",
            "Epoch 27/30\n",
            "21/21 [==============================] - 25s 1s/step - loss: 0.0285 - accuracy: 0.9942\n",
            "Epoch 28/30\n",
            "21/21 [==============================] - 25s 1s/step - loss: 0.0253 - accuracy: 0.9932\n",
            "Epoch 29/30\n",
            "21/21 [==============================] - 25s 1s/step - loss: 0.0174 - accuracy: 0.9979\n",
            "Epoch 30/30\n",
            "21/21 [==============================] - 25s 1s/step - loss: 0.0639 - accuracy: 0.9839\n"
          ],
          "name": "stdout"
        },
        {
          "output_type": "execute_result",
          "data": {
            "text/plain": [
              "<tensorflow.python.keras.callbacks.History at 0x7f09f0325bd0>"
            ]
          },
          "metadata": {
            "tags": []
          },
          "execution_count": 35
        }
      ]
    },
    {
      "cell_type": "code",
      "metadata": {
        "colab": {
          "base_uri": "https://localhost:8080/"
        },
        "id": "Zr6n8XNl-DZQ",
        "outputId": "63288602-9c5c-455c-dc09-19ced143b9e6"
      },
      "source": [
        "test_case = flower_classifier.predict(x_test)\n",
        "test_case"
      ],
      "execution_count": 37,
      "outputs": [
        {
          "output_type": "execute_result",
          "data": {
            "text/plain": [
              "array([[6.8479384e-17, 2.1106098e-08, 2.3342139e-35, 1.3965973e-10,\n",
              "        9.9963605e-01, 3.6387786e-04],\n",
              "       [9.9128950e-01, 6.3457317e-03, 2.8593422e-25, 1.7171401e-03,\n",
              "        7.8319799e-06, 6.3982891e-04],\n",
              "       [3.2528564e-28, 8.6943333e-15, 1.0890519e-34, 9.2230904e-14,\n",
              "        4.1975835e-03, 9.9580246e-01],\n",
              "       ...,\n",
              "       [9.8823840e-03, 6.4922667e-01, 2.4272537e-14, 3.3775720e-01,\n",
              "        1.7038913e-03, 1.4297548e-03],\n",
              "       [9.9999142e-01, 5.2379010e-06, 3.6541643e-22, 6.1539907e-09,\n",
              "        1.6253872e-10, 3.3805563e-06],\n",
              "       [8.3384685e-07, 8.5686886e-01, 6.8705714e-24, 5.4503330e-06,\n",
              "        1.7315235e-04, 1.4295182e-01]], dtype=float32)"
            ]
          },
          "metadata": {
            "tags": []
          },
          "execution_count": 37
        }
      ]
    },
    {
      "cell_type": "code",
      "metadata": {
        "id": "OMWm2zDh-Gh3"
      },
      "source": [
        "y_test_pred = np.argmax(test_case,axis = 1)"
      ],
      "execution_count": 38,
      "outputs": []
    },
    {
      "cell_type": "code",
      "metadata": {
        "colab": {
          "base_uri": "https://localhost:8080/"
        },
        "id": "xu_P3i8C-Jwn",
        "outputId": "10bb2dfb-ac39-4fc5-98f9-0d01711ff15f"
      },
      "source": [
        "for i in range(50):\n",
        "    print(\"actual\",y_test[i],\"predicted\",y_test_pred[i])"
      ],
      "execution_count": 39,
      "outputs": [
        {
          "output_type": "stream",
          "text": [
            "actual 4 predicted 4\n",
            "actual 0 predicted 0\n",
            "actual 5 predicted 5\n",
            "actual 5 predicted 4\n",
            "actual 5 predicted 1\n",
            "actual 1 predicted 5\n",
            "actual 1 predicted 4\n",
            "actual 3 predicted 3\n",
            "actual 4 predicted 3\n",
            "actual 1 predicted 0\n",
            "actual 0 predicted 0\n",
            "actual 4 predicted 4\n",
            "actual 1 predicted 0\n",
            "actual 4 predicted 4\n",
            "actual 5 predicted 5\n",
            "actual 1 predicted 1\n",
            "actual 1 predicted 1\n",
            "actual 3 predicted 3\n",
            "actual 5 predicted 5\n",
            "actual 5 predicted 5\n",
            "actual 5 predicted 5\n",
            "actual 4 predicted 1\n",
            "actual 0 predicted 0\n",
            "actual 5 predicted 5\n",
            "actual 0 predicted 0\n",
            "actual 0 predicted 0\n",
            "actual 3 predicted 3\n",
            "actual 4 predicted 4\n",
            "actual 3 predicted 3\n",
            "actual 0 predicted 0\n",
            "actual 5 predicted 1\n",
            "actual 3 predicted 3\n",
            "actual 4 predicted 1\n",
            "actual 1 predicted 0\n",
            "actual 0 predicted 0\n",
            "actual 4 predicted 4\n",
            "actual 0 predicted 0\n",
            "actual 1 predicted 4\n",
            "actual 5 predicted 1\n",
            "actual 1 predicted 1\n",
            "actual 1 predicted 1\n",
            "actual 4 predicted 4\n",
            "actual 3 predicted 3\n",
            "actual 0 predicted 0\n",
            "actual 0 predicted 0\n",
            "actual 0 predicted 0\n",
            "actual 3 predicted 3\n",
            "actual 3 predicted 3\n",
            "actual 3 predicted 3\n",
            "actual 4 predicted 1\n"
          ],
          "name": "stdout"
        }
      ]
    },
    {
      "cell_type": "code",
      "metadata": {
        "id": "_Xh0qdm1-MDV"
      },
      "source": [
        ""
      ],
      "execution_count": 34,
      "outputs": []
    }
  ]
}